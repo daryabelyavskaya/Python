{
  "nbformat": 4,
  "nbformat_minor": 0,
  "metadata": {
    "colab": {
      "name": "Копия блокнота \"DecoratorTasks.ipynb\"",
      "provenance": [],
      "collapsed_sections": [],
      "include_colab_link": true
    },
    "kernelspec": {
      "name": "python3",
      "display_name": "Python 3"
    }
  },
  "cells": [
    {
      "cell_type": "markdown",
      "metadata": {
        "id": "view-in-github",
        "colab_type": "text"
      },
      "source": [
        "<a href=\"https://colab.research.google.com/github/daryabelyavskaya/Python/blob/main/DecoratorTasks_ipynb.ipynb\" target=\"_parent\"><img src=\"https://colab.research.google.com/assets/colab-badge.svg\" alt=\"Open In Colab\"/></a>"
      ]
    },
    {
      "cell_type": "markdown",
      "metadata": {
        "id": "wxNuXwoVq6pa"
      },
      "source": [
        "# Profiler\n",
        "\n",
        "Напишите декоратор `@profiler`, который при вызове функции будет замерять время ее исполнения\n",
        "\n",
        "Для работы со временем в питоне есть замечательный модуль `datetime`.\n",
        "\n",
        "Декоратор не должен затирать основные атрибуты функции: `__name__`, `__doc__`, `__module__`. Вам понадобится одна строчка дополнительная строчка для этого (см. ноутбук по теме)\n",
        "\n",
        "Пользоваться глобальными переменными запрещено, сохранять результаты замера нужно в **атрибуте** функции.\n",
        "Атрибут назовите `last_time_taken`.\n",
        "\n",
        "\n",
        "> Вообще, хранить какие-то свои данные в атрибутах функции - антипаттерн, и в продакшен коде так делать не стоит.\n"
      ]
    },
    {
      "cell_type": "code",
      "metadata": {
        "id": "k0H5PYIyraKj",
        "outputId": "aecc0cba-f023-42c4-95c3-cec9e981f999",
        "colab": {
          "base_uri": "https://localhost:8080/",
          "height": 34
        }
      },
      "source": [
        "@profiler\n",
        "def foo():\n",
        "    pass\n",
        "\n",
        "foo()\n",
        "\n",
        "assert foo.last_time_taken > timedelta(0)\n",
        "print(f'Time: {foo.last_time_taken}')"
      ],
      "execution_count": null,
      "outputs": [
        {
          "output_type": "stream",
          "text": [
            "Time: 0:00:00.000008\n"
          ],
          "name": "stdout"
        }
      ]
    },
    {
      "cell_type": "markdown",
      "metadata": {
        "id": "61E43YDb7GIb"
      },
      "source": [
        "# Calls counter\n",
        "\n",
        "Напишите декоратор `@calls_counter`, который при вызове функции будет замерять количество рекусивных вызовов\n",
        "\n",
        "Декоратор не должен затирать основные атрибуты функции: `__name__`, `__doc__`, `__module__`. Вам понадобится одна строчка дополнительная строчка для этого (см. ноутбук по теме)\n",
        "\n",
        "Пользоваться глобальными переменными запрещено, сохранять результаты замера нужно в **атрибуте** функции.\n",
        "Атрибут назовите `calls`."
      ]
    },
    {
      "cell_type": "code",
      "metadata": {
        "id": "BqeXH9RH6egZ",
        "outputId": "5ce662aa-f72e-4a1b-dd2b-d08642a33a94",
        "colab": {
          "base_uri": "https://localhost:8080/",
          "height": 34
        }
      },
      "source": [
        "@calls_counter\n",
        "def simple_recursive(n):\n",
        "    if n > 0:\n",
        "        simple_recursive(n - 1)\n",
        "\n",
        "simple_recursive(3)\n",
        "\n",
        "assert simple_recursive.calls == 4\n",
        "print(f'Calls: {simple_recursive.calls}')"
      ],
      "execution_count": null,
      "outputs": [
        {
          "output_type": "stream",
          "text": [
            "Calls: 4\n"
          ],
          "name": "stdout"
        }
      ]
    }
  ]
}