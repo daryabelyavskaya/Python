{
  "nbformat": 4,
  "nbformat_minor": 0,
  "metadata": {
    "colab": {
      "name": "DecoratorTasks.ipynb",
      "provenance": [],
      "collapsed_sections": [],
      "include_colab_link": true
    },
    "kernelspec": {
      "name": "python3",
      "display_name": "Python 3"
    }
  },
  "cells": [
    {
      "cell_type": "markdown",
      "metadata": {
        "id": "view-in-github",
        "colab_type": "text"
      },
      "source": [
        "<a href=\"https://colab.research.google.com/github/daryabelyavskaya/Python/blob/main/DecoratorTasks.ipynb\" target=\"_parent\"><img src=\"https://colab.research.google.com/assets/colab-badge.svg\" alt=\"Open In Colab\"/></a>"
      ]
    },
    {
      "cell_type": "markdown",
      "metadata": {
        "id": "wxNuXwoVq6pa"
      },
      "source": [
        "# Profiler\n",
        "\n",
        "Напишите декоратор `@profiler`, который при вызове функции будет замерять время ее исполнения\n",
        "\n",
        "Для работы со временем в питоне есть замечательный модуль `datetime`.\n",
        "\n",
        "Декоратор не должен затирать основные атрибуты функции: `__name__`, `__doc__`, `__module__`. Вам понадобится одна строчка дополнительная строчка для этого (см. ноутбук по теме)\n",
        "\n",
        "Пользоваться глобальными переменными запрещено, сохранять результаты замера нужно в **атрибуте** функции.\n",
        "Атрибут назовите `last_time_taken`.\n",
        "\n",
        "\n",
        "> Вообще, хранить какие-то свои данные в атрибутах функции - антипаттерн, и в продакшен коде так делать не стоит.\n"
      ]
    },
    {
      "cell_type": "code",
      "metadata": {
        "id": "k0H5PYIyraKj",
        "outputId": "aecc0cba-f023-42c4-95c3-cec9e981f999",
        "colab": {
          "base_uri": "https://localhost:8080/",
          "height": 34
        }
      },
      "source": [
        "@profiler\n",
        "def foo():\n",
        "    pass\n",
        "\n",
        "foo()\n",
        "\n",
        "assert foo.last_time_taken > timedelta(0)\n",
        "print(f'Time: {foo.last_time_taken}')"
      ],
      "execution_count": null,
      "outputs": [
        {
          "output_type": "stream",
          "text": [
            "Time: 0:00:00.000008\n"
          ],
          "name": "stdout"
        }
      ]
    },
    {
      "cell_type": "markdown",
      "metadata": {
        "id": "61E43YDb7GIb"
      },
      "source": [
        "# Calls counter\n",
        "\n",
        "Напишите декоратор `@calls_counter`, который при вызове функции будет замерять количество рекусивных вызовов\n",
        "\n",
        "Декоратор не должен затирать основные атрибуты функции: `__name__`, `__doc__`, `__module__`. Вам понадобится одна строчка дополнительная строчка для этого (см. ноутбук по теме)\n",
        "\n",
        "Пользоваться глобальными переменными запрещено, сохранять результаты замера нужно в **атрибуте** функции.\n",
        "Атрибут назовите `calls`."
      ]
    },
    {
      "cell_type": "code",
      "metadata": {
        "id": "BqeXH9RH6egZ",
        "outputId": "5ce662aa-f72e-4a1b-dd2b-d08642a33a94",
        "colab": {
          "base_uri": "https://localhost:8080/",
          "height": 34
        }
      },
      "source": [
        "@calls_counter\n",
        "def simple_recursive(n):\n",
        "    if n > 0:\n",
        "        simple_recursive(n - 1)\n",
        "\n",
        "simple_recursive(3)\n",
        "\n",
        "assert simple_recursive.calls == 4\n",
        "print(f'Calls: {simple_recursive.calls}')"
      ],
      "execution_count": null,
      "outputs": [
        {
          "output_type": "stream",
          "text": [
            "Calls: 4\n"
          ],
          "name": "stdout"
        }
      ]
    },
    {
      "cell_type": "markdown",
      "metadata": {
        "id": "xsh2SPN60l2R"
      },
      "source": [
        "# LRU cache (можно не делать)"
      ]
    },
    {
      "cell_type": "markdown",
      "metadata": {
        "id": "9rJFTx_G8OIh"
      },
      "source": [
        "Бывает полезно оптимизировать вызовы \"тяжёлых\" функций с помощью кеширования.\n",
        "\n",
        "Кеширование (мемоизация)– это сохранение результатов выполнения функций для предотвращения повторных вычислений.\n",
        "Перед вызовом функции проверяется есть ли уже вычисленный результат. Если есть – функция не вызывается,\n",
        "а возвращается сохранённое значение.\n",
        "\n",
        "Реализуйте декоратор для Least Recently Used (LRU) Cache. Пользователь указывает размер кеша\n",
        "`N`, и в кеше сохраняются значения для `N` наборов входных параметров функции, т.е. dict пар \"входные параметры - результат\", причем если в кэше закончилось место, то вытесняется из кеша сначала то,\n",
        "что использовалось давней всего.\n",
        "\n",
        "Для решения задачи рекомендую использовать `OrderedDict` в качестве кэша.\n",
        "\n",
        "Декоратор назовите `@cache`, он должен принимать один параметр – размер кеша. \n",
        "\n",
        "Декоратор не должен затирать основные атрибуты функции: `__name__`, `__doc__`, `__module__`. Вам понадобится одна строчка дополнительная строчка для этого (см. ноутбук по теме)\n",
        "\n",
        "Естественно, вам нельзя пользоваться дефолтным `functools.lru_cache`\n",
        "\n"
      ]
    },
    {
      "cell_type": "code",
      "metadata": {
        "id": "mPlafx0d9aK0"
      },
      "source": [
        "@cache(4)\n",
        "def fibo(n):\n",
        "    fibo.calls += 1\n",
        "    if n <= 1:\n",
        "        return n\n",
        "    return fibo(n - 1) + fibo(n - 2)\n",
        "\n",
        "fibo.calls = 0\n",
        "result3 = fibo(3)\n",
        "\n",
        "assert result3 == 2\n",
        "assert fibo.calls == 4\n",
        "\n",
        "fibo.calls = 0\n",
        "result3 = fibo(3)\n",
        "assert result3 == 2\n",
        "assert fibo.calls == 0\n",
        "\n",
        "fibo(4)\n",
        "fibo(5)\n",
        "\n",
        "fibo.calls = 0\n",
        "result3 = fibo(3)\n",
        "assert result3 == 2\n",
        "assert fibo.calls == 0\n",
        "\n",
        "fibo(6)\n",
        "fibo(7)\n",
        "\n",
        "fibo.calls = 0\n",
        "result3 = fibo(3)\n",
        "assert result3 == 2\n",
        "assert fibo.calls == 4"
      ],
      "execution_count": null,
      "outputs": []
    },
    {
      "cell_type": "code",
      "metadata": {
        "id": "_R2G27mR2NZX"
      },
      "source": [
        ""
      ],
      "execution_count": null,
      "outputs": []
    }
  ]
}